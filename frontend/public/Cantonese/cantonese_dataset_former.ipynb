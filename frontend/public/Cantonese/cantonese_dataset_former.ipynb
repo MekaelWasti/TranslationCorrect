{
 "cells": [
  {
   "cell_type": "code",
   "execution_count": 1,
   "metadata": {},
   "outputs": [],
   "source": [
    "with open(\"./eng_src.txt\", \"r\", encoding='utf-8') as f:\n",
    "    eng_lines = f.readlines()\n",
    "\n",
    "with open(\"./cantonese_mt.txt\", \"r\", encoding='utf-8') as f:\n",
    "    mt_lines = f.readlines()\n",
    "\n",
    "with open(\"./cantonese_ref.txt\", \"r\", encoding='utf-8') as f:\n",
    "    ref_lines = f.readlines()"
   ]
  },
  {
   "cell_type": "code",
   "execution_count": 33,
   "metadata": {},
   "outputs": [],
   "source": [
    "count = 1\n",
    "newSet = []\n",
    "for ind,line in enumerate(eng_lines):\n",
    "    if count == 51:\n",
    "        break\n",
    "    line = line.replace('\"', \"'\")\n",
    "    mt_line = mt_lines[ind].replace('\"', \"'\")\n",
    "    ref_line = ref_lines[ind].replace('\"', \"'\")\n",
    "    newLine = f'{{\"id\": {count}, \"src\": \"{line.strip()}\", \"mt\": \"{mt_line.strip()}\", \"ref\": \"{ref_line.strip()}\", \"annotations\": {{}}}},'\n",
    "    newSet.append(newLine)\n",
    "    # print(newLine)\n",
    "    count += 1"
   ]
  },
  {
   "cell_type": "code",
   "execution_count": 34,
   "metadata": {},
   "outputs": [],
   "source": [
    "newSet\n",
    "\n",
    "with open(\"./cantonese_dataset.json\", \"w\", encoding='utf-8') as f:\n",
    "    f.write(\"[\\n\")\n",
    "    for line in newSet:\n",
    "        f.write(line + \"\\n\")\n",
    "    f.write(\"]\")"
   ]
  },
  {
   "cell_type": "code",
   "execution_count": 28,
   "metadata": {},
   "outputs": [
    {
     "data": {
      "text/plain": [
       "['{\"id\": 1, \"src\": \"On Monday, scientists from the Stanford University School of Medicine announced the invention of a new diagnostic tool that can sort cells by type: a tiny printable chip that can be manufactured using standard inkjet printers for possibly about one U.S. cent each.\", \"mt\": \"星期一,斯坦福大學醫學院嘅科學家宣布發明咗一個可以按類型排序細胞嘅新診斷工具 一個細嘅可打印芯片 可以用標準嘅喷墨打印機 製造成一美分鐘\", \"ref\": \"星期一，史丹福大學醫學院嘅科學家宣佈，佢哋發明咗一種可以對細胞進行分類嘅新診斷工具：用標準噴墨打印機製造嘅微型可打印晶片，每塊晶片嘅價格大概係 1 美仙。\", \"annotations\": []},',\n",
       " '{\"id\": 2, \"src\": \"Lead researchers say this may bring early detection of cancer, tuberculosis, HIV and malaria to patients in low-income countries, where the survival rates for illnesses such as breast cancer can be half those of richer countries.\", \"mt\": \"主要研究員話,呢個可能會令低收入國家嘅病人早期發現癌症,結核病, HIV 同疟疾\", \"ref\": \"首席研究員表示，研究結果可能會令低收入國家嘅患者及早發現癌症、肺結核、愛滋病同瘧疾。喺呢啲國家，乳癌等疾病嘅生存率可能只有富裕國家嘅一半。\", \"annotations\": []},',\n",
       " '{\"id\": 3, \"src\": \"The JAS 39C Gripen crashed onto a runway at around 9:30 am local time (0230 UTC) and exploded, closing the airport to commercial flights.\", \"mt\": \"捷運39C Gripen 飛機喺當地時間上午9點30分左右撞上起跑道,爆炸,\", \"ref\": \"當地時間上午九點半左右（UTC 0230），JAS 39C 鷹獅戰機喺跑道上墜毀爆炸，導致機場關閉，商業航班冇辦法升降。\", \"annotations\": []},',\n",
       " '{\"id\": 4, \"src\": \"The pilot was identified as Squadron Leader Dilokrit Pattavee.\", \"mt\": \"飛行員被識別為隊長迪洛克里特帕塔維\", \"ref\": \"確認涉事機師係空軍少校迪羅基列·帕達維。\", \"annotations\": []},',\n",
       " '{\"id\": 5, \"src\": \"Local media reports an airport fire vehicle rolled over while responding.\", \"mt\": \"地方媒體報導 響應時 機場消防車翻身\", \"ref\": \"當地媒體報導，一部機場消防車喺行動中翻側。\", \"annotations\": []},',\n",
       " '{\"id\": 6, \"src\": \"28-year-old Vidal had joined Barça three seasons ago, from Sevilla.\", \"mt\": \"28歲嘅維達爾 喺三個賽季之前從塞維利亞加入巴塞爾\", \"ref\": \"28歲嘅維達爾喺三個賽季前由塞爾維亞加盟巴塞。\", \"annotations\": []},',\n",
       " '{\"id\": 7, \"src\": \"Since moving to the Catalan-capital, Vidal had played 49 games for the club.\", \"mt\": \"自從佢搬到加泰隆尼亞首都之後, 維達爾為俱樂部打咗 49 場遊戲\", \"ref\": \"自從轉會到加泰羅尼亞首府，維達爾已經幫俱樂部踢咗49場比賽。\", \"annotations\": []},',\n",
       " '{\"id\": 8, \"src\": \"The protest started around 11:00 local time (UTC+1) on Whitehall opposite the police-guarded entrance to Downing Street, the Prime Minister\\'s official residence.\", \"mt\": \"抗議活動開始於當地時間11點左右 (UTC+1) 於白宮,\", \"ref\": \"當地時間11點（標準時間 UTC+1 ）左右抗議活動喺白廳開始，對面有警察把守首相官邸唐寧街嘅入口。\", \"annotations\": []},',\n",
       " '{\"id\": 9, \"src\": \"Just after 11:00, protesters blocked traffic on the northbound carriage in Whitehall.\", \"mt\": \"十一點之後 抗議者封鎖咗北方車輛\", \"ref\": \"啱啱過咗11點，抗議人士封鎖咗白廳北行車道嘅交通。\", \"annotations\": []},',\n",
       " '{\"id\": 10, \"src\": \"At 11:20, the police asked the protesters to move back on to the pavement, stating that they needed to balance the right to protest with the traffic building up.\", \"mt\": \"11時20分 警方要求示威者返去路面, 表示佢哋需要平衡示威權同交通增加\", \"ref\": \"11點20分，警方要求抗議人士返回人行道，話佢哋需要喺抗議權同交通擠塞之間取得平衡。\", \"annotations\": []},',\n",
       " '{\"id\": 11, \"src\": \"Around 11:29, the protest moved up Whitehall, past Trafalgar Square, along the Strand, passing by Aldwych and up Kingsway towards Holborn where the Conservative Party were holding their Spring Forum in the Grand Connaught Rooms hotel.\", \"mt\": \"大概11時29分,抗議者移動到惠特哈爾,過特拉法爾加廣場,沿海沙灘,經過阿爾迪維奇,再上基斯維,前往霍爾本,\", \"ref\": \"11點29分左右，抗議人士沿住白廳經過特拉法加廣場、斯特蘭德（ Strand ）、奥德维奇（ Aldwych ）、金斯威（ Kingsway ）走去霍本（ Holborn ），保守黨喺干諾大酒店（ Grand Connaught Rooms ）舉行春季論壇。\", \"annotations\": []},',\n",
       " '{\"id\": 12, \"src\": \"Nadal\\'s head to head record against the Canadian is 7–2.\", \"mt\": \"納達爾對加拿大隊嘅總數係72.\", \"ref\": \"拿度對加拿大嘅頭球記錄為7比2。\", \"annotations\": []},',\n",
       " '{\"id\": 13, \"src\": \"He recently lost against Raonic in the Brisbane Open.\", \"mt\": \"最近他在布里斯班公开赛中 输了Raonic\", \"ref\": \"佢最近喺布里斯班公開賽輸畀拉奧尼治。\", \"annotations\": []},',\n",
       " '{\"id\": 14, \"src\": \"Nadal bagged 88% net points in the match winning 76 points in the first serve.\", \"mt\": \"Nadal 喺第一場比賽中獲得 88% 純點\", \"ref\": \"拿度喺比賽入面嘅網前得分係88%，喺首個發球局贏得76分。\", \"annotations\": []},',\n",
       " '{\"id\": 15, \"src\": \"After the match, King of Clay said, \\'I am just excited about being back in the final rounds of the most important events. I am here to try to win this.\\'\", \"mt\": \"賽後, Clay King 說:\\'我好興奮,因為我回到了最重要嘅賽事嘅最後一輪.\", \"ref\": \"紅土之王喺賽後表示：“我好高興可以殺入最重要賽事嘅最後一輪。我嚟呢度就係為咗贏呢場嘅勝利。\", \"annotations\": []},',\n",
       " '{\"id\": 16, \"src\": \"Panama Papers is an umbrella term for roughly ten million documents from Panamanian law firm Mossack Fonseca, leaked to the press in spring 2016.\", \"mt\": \"\\'巴拿馬文件\\'係巴拿馬律師事務所 Mossack Fonseca 十百萬份文件嘅總名詞\", \"ref\": \"「巴拿馬文件」係巴拿馬莫薩克-馮塞卡律師事務所喺2016年春天洩露畀傳媒約一千萬份文件嘅總稱。\", \"annotations\": []},',\n",
       " '{\"id\": 17, \"src\": \"The documents showed fourteen banks helped wealthy clients hide billions of US dollars of wealth to avoid taxes and other regulations.\", \"mt\": \"文件顯示有十四間銀行 幫助富有客戶 隱藏數十億美元嘅財富 避免稅收和其他規則\", \"ref\": \"文件顯示，十四間銀行協助富裕客戶隱藏幾十億美元嘅財富，嚟到逃稅同其他規管。\", \"annotations\": []},',\n",
       " '{\"id\": 18, \"src\": \"British newspaper The Guardian suggested Deutsche Bank controlled roughly a third of the 1200 shell companies used to accomplish this.\", \"mt\": \"英國報紙The Guardian 指出 德意志銀行控制咗大概三分之一\", \"ref\": \"英國報章《衛報》指出，用嚟達到呢個目的嘅空殼公司達 1,200 間，而德意志銀行控制咗其中大約三分之一。\", \"annotations\": []},',\n",
       " '{\"id\": 19, \"src\": \"There were protests worldwide, several criminal prosecutions, and the leaders of the governments of Iceland and Pakistan both resigned.\", \"mt\": \"全球都有抗議活動 起咗幾起刑事起訴 冰島同巴基斯坦政府嘅領袖都辭職\", \"ref\": \"呢件事引起咗世界各地嘅抗議活動、多宗刑事起訴，同埋冰島同巴基斯坦政府嘅領導人辭職。\", \"annotations\": []},',\n",
       " '{\"id\": 20, \"src\": \"Born in Hong Kong, Ma studied at New York University and Harvard Law School and once held an American permanent resident \\'green card\\'.\", \"mt\": \"佢喺香港出世,讀咗紐約大學同哈佛法學院,曾經擁有美國永久居民嘅\\'綠卡\\'.\", \"ref\": \"馬英九喺香港出世，曾經喺紐約大學同哈佛大學法學院就讀，曾擁有美國永久居民 「綠卡」身份。\", \"annotations\": []},',\n",
       " '{\"id\": 21, \"src\": \"Hsieh implied during the election that Ma might flee the country during a time of crisis.\", \"mt\": \"希希喺選舉期間暗示 馬可能喺危機時期逃離國家\", \"ref\": \"謝長廷喺選舉期間暗示馬英九可能會喺台灣遇上危機嘅時候逃離台灣。\", \"annotations\": []},',\n",
       " '{\"id\": 22, \"src\": \"Hsieh also argued that the photogenic Ma was more style than substance.\", \"mt\": \"Hsieh 又話光基 Ma 更加有風格而唔係物質\", \"ref\": \"謝長廷仲認為，上鏡嘅馬英九只有外表而冇內涵。\", \"annotations\": []},',\n",
       " '{\"id\": 23, \"src\": \"Despite these accusations, Ma won handily on a platform advocating closer ties with the Chinese mainland.\", \"mt\": \"儘管呢啲指控, Ma 隨便喺一個支持緊密聯繫中國大陸嘅平台上贏得勝利\", \"ref\": \"雖然備受呢啲指責，但係馬英九依然喺一個主張同中國大陸建立更緊密聯繫嘅平台上輕鬆勝出。\", \"annotations\": []},',\n",
       " '{\"id\": 24, \"src\": \"Today\\'s Player of the Day is Alex Ovechkin of the Washington Capitals.\", \"mt\": \"今日嘅最佳球員係華盛頓首都隊嘅 Alex Ovechkin\", \"ref\": \"今日嘅最佳選手係華盛頓首都嘅亞歷克斯·奧韋奇金。\", \"annotations\": []},',\n",
       " '{\"id\": 25, \"src\": \"He had 2 goals and 2 assists in Washington\\'s 5-3 win over the Atlanta Thrashers.\", \"mt\": \"佢喺華盛頓對亞特蘭大戰士嘅5-3勝利中 打咗2個目標同2個助攻\", \"ref\": \"喺華盛頓5比3戰勝亞特蘭大鶇鳥隊嘅比賽入面，佢貢獻咗2個入球同2次助攻。\", \"annotations\": []},',\n",
       " '{\"id\": 26, \"src\": \"Ovechkin\\'s first assist of the night was on the game-winning goal by rookie Nicklas Backstrom;\", \"mt\": \"奧維奇金嘅第一場助攻係新手尼克拉斯 貝克斯特羅姆贏得球嘅目標\", \"ref\": \"奧韋奇金嗰晚嘅第一個助攻係嚟自新秀巴克斯壯嘅制勝一球；\", \"annotations\": []},',\n",
       " '{\"id\": 27, \"src\": \"his second goal of the night was his 60th of the season, becoming the first player to score 60 or more goals in a season since 1995-96, when Jaromir Jagr and Mario Lemieux each reached that milestone.\", \"mt\": \"佢喺嗰個賽季打咗第60個球, 成為自1995-96 年之後, 卡羅米爾 傑格同馬里奧 萊米奧 都喺一個賽季打咗 60 個或更多嘅球\", \"ref\": \"佢喺當晚嘅第二個入球係佢喺呢個賽季嘅第60個個人入球，成為自1995-1996賽季哈路米亞·查格同馬利奧·勒米阿分別達成呢個里程碑以來，首位喺一個賽季中錄得60個或以上入球嘅球員。\", \"annotations\": []},',\n",
       " '{\"id\": 28, \"src\": \"Batten was ranked 190th on the 2008 400 Richest Americans list with an estimated fortune of $2.3 billion.\", \"mt\": \"2008 年,巴登喺美國最富有400 個名單上排名第 190 位,估計財富達 23 億美元.\", \"ref\": \"巴頓喺2008年全美富豪400強榜單入面排名第190位，估計資產總值達到23億美元。\", \"annotations\": []},',\n",
       " '{\"id\": 29, \"src\": \"He graduated from the College of Arts & Sciences of the University of Virginia in 1950 and was a significant donor to that institution.\", \"mt\": \"佢喺 1950 年畢業於維吉尼亞大學藝術科學學院,並為該機構做咗重要捐贈.\", \"ref\": \"佢1950年喺維珍尼亞大學藝術與科學學院畢業，之後成為咗呢間學校嘅重要捐助人。\", \"annotations\": []},',\n",
       " '{\"id\": 30, \"src\": \"Iraq\\'s Abu Ghraib prison has been set alight during a riot.\", \"mt\": \"伊拉克阿布格萊布監獄喺暴動期間被燒起\", \"ref\": \"伊拉克嘅阿布格萊布監獄喺一次騷亂畀人燒毀。\", \"annotations\": []},',\n",
       " '{\"id\": 31, \"src\": \"The jail became notorious after prisoner abuse was discovered there after US forces took over.\", \"mt\": \"美國軍隊接管之後 監獄成為臭名昭著嘅監獄\", \"ref\": \"發現美軍接管後虐待囚犯，監獄從此聲名狼藉。\", \"annotations\": []},',\n",
       " '{\"id\": 32, \"src\": \"Piquet Jr. crashed in the 2008 Singapore Grand Prix just after an early pit stop for Fernando Alonso, bringing out the safety car.\", \"mt\": \"皮克小弟喺2008年新加坡大獎賽 停車後就撞上車\", \"ref\": \"喺2008年嘅新加坡大獎賽上，小皮奎特剛喺費南度·阿朗素提前入站就撞車，令到安全車出動。\", \"annotations\": []},',\n",
       " '{\"id\": 33, \"src\": \"As the cars ahead of Alonso went in for fuel under the safety car, he moved up the pack to take victory.\", \"mt\": \"當前嘅車輛喺安全車下邊油嘅時候 佢走上車隊\", \"ref\": \"當阿朗素前面嘅賽車喺安全車後加油時，佢就超前，贏得勝利。\", \"annotations\": []},',\n",
       " '{\"id\": 34, \"src\": \"Piquet Jr. was sacked after the 2009 Hungarian Grand Prix.\", \"mt\": \"2009年匈牙利大獎之後,Piquet Jr.被解雇.\", \"ref\": \"小皮奎特喺 2009 年匈牙利大獎賽後就畀人炒魷魚。\", \"annotations\": []},',\n",
       " '{\"id\": 35, \"src\": \"At exactly 8:46 a.m. a hush fell across the city, marking the exact moment the first jet struck its target.\", \"mt\": \"正確喺早上8點46分 城市就有沉默 標誌咗第一架飛機撞擊目標嘅時刻\", \"ref\": \"朝早嘅8點46分，全城一片寂靜，標誌著第一架飛機襲擊目標嘅時刻。\", \"annotations\": []},',\n",
       " '{\"id\": 36, \"src\": \"Two beams of light have been rigged up to point skywards overnight.\", \"mt\": \"兩條光線被裝成 針對夜晚嘅天空\", \"ref\": \"兩束光喺一夜間被組裝起嚟指向天空。\", \"annotations\": []},',\n",
       " '{\"id\": 37, \"src\": \"Construction is ongoing for five new skyscrapers at the site, with a transportation center and memorial park in the middle.\", \"mt\": \"建成五座新嘅摩天大廈 喺呢個遺址上,有交通中心同紀念公園\", \"ref\": \"五座新嘅摩天大樓正喺遺址施工，位於中央嘅係交通運輸中心同埋紀念公園。\", \"annotations\": []},',\n",
       " '{\"id\": 38, \"src\": \"The PBS show has more than two-dozen Emmy awards, and its run is shorter only than Sesame Street and Mister Rogers\\' Neighborhood.\", \"mt\": \"PBS節目有超過兩十個艾美獎,而且播放時間比芝麻街同羅杰斯先生的鄰居短.\", \"ref\": \"呢個PBS節目得到二十幾個艾美獎，佢嘅播出時間只係比芝麻街同埋羅渣士先生嘅社區短。\", \"annotations\": []},',\n",
       " '{\"id\": 39, \"src\": \"Each episode of the show would focus on a theme in a specific book and then explore that theme through multiple stories.\", \"mt\": \"每個節目都將集中喺特定本書嘅一個主題 然後通過多個故事探索呢個主題\", \"ref\": \"節目嘅每一集專注於一本特定書本嘅主題，跟住通過多個故事去探討嗰個主題。\", \"annotations\": []},',\n",
       " '{\"id\": 40, \"src\": \"Each show would also provide recommendations for books that children should look for when they went to their library.\", \"mt\": \"每個作品都提供咗書籍嘅推薦 兒童去圖書館時應該搵\", \"ref\": \"每集仲幫小朋友建議去圖書館嘅時候應該搵邊啲書本。\", \"annotations\": []},',\n",
       " '{\"id\": 41, \"src\": \"John Grant, from WNED Buffalo (Reading Rainbow\\'s home station) said \\'Reading Rainbow taught kids why to read,... the love of reading — [the show] encouraged kids to pick up a book and to read.\\'\", \"mt\": \"John Grant,來自WNED Buffalo (Reading Rainbow嘅本站) 表示\\'Reading Rainbow 教咗細路仔點解要讀書,\", \"ref\": \"嚟自WNED Buffalo（閱讀彩虹嘅主站）嘅約翰·格蘭講到：「閱讀彩虹教識咗小朋友點解要睇書…… 對閱讀嘅熱愛 — [呢個節目] 鼓勵小朋友攞起本書嚟睇。」\", \"annotations\": []},',\n",
       " '{\"id\": 42, \"src\": \"It is believed by some, including John Grant, that both the funding crunch and a shift in the philosophy of educational television programming contributed to ending the series.\", \"mt\": \"包括 John Grant 之類嘅人認為 資金危機同教育電視節目哲學嘅改變 都有助於結束呢個系列\", \"ref\": \"包括約翰·格蘭在內嘅一啲人認為，缺乏資金同埋教育電視節目理念有所改變，都係導致呢個系列節目完結嘅原因。\", \"annotations\": []},',\n",
       " '{\"id\": 43, \"src\": \"The storm, situated about 645 miles (1040 km) west of the Cape Verde islands, is likely to dissipate before threatening any land areas, forecasters say.\", \"mt\": \"預報者話,呢個風暴喺加布維爾德島西邊 約1040 公里遠嘅地區 可能會消失\", \"ref\": \"預報員話，呢場位於佛得角群島以西645英哩（1040公里）嘅風暴，可能喺威脅到任何陸上地區之前消散。\", \"annotations\": []},',\n",
       " '{\"id\": 44, \"src\": \"Fred currently has winds of 105 miles per hour (165 km/h) and is moving towards the northwest.\", \"mt\": \"弗雷德目前每小時65公里嘅風力 移向西北\", \"ref\": \"費特目前嘅風速係每小時105英哩（每小時165公里），向住西北方向移動。\", \"annotations\": []},',\n",
       " '{\"id\": 45, \"src\": \"Fred is the strongest tropical cyclone ever recorded so far south and east in the Atlantic since the advent of satellite imagery, and only the third major hurricane on record east of 35°W.\", \"mt\": \"Fred 係自衛星影像出現之後 迄今為止喺大西洋南部同東部 已經有最強嘅熱帶風暴\", \"ref\": \"費特係自衛星圖像出現以嚟，喺大西洋南部同埋東部有記錄以嚟最強嘅熱帶氣旋，亦係西經35度線以東有記錄以嚟嘅第三大颶風。\", \"annotations\": []},',\n",
       " '{\"id\": 46, \"src\": \"On September 24, 1759, Arthur Guinness signed a 9,000 year lease for the St James\\' Gate Brewery in Dublin, Ireland.\", \"mt\": \"1759 年 9 月 24 日,阿瑟·吉尼斯簽署咗 9,000 年租金合同\", \"ref\": \"1759年9月24日，艾達·健力士簽署咗一份為期9,000年嘅租約，租用愛爾蘭都柏林嘅聖詹士門啤酒廠。\", \"annotations\": []},',\n",
       " '{\"id\": 47, \"src\": \"250 years later, Guinness has grown to a global business that turns over 10 billion euros (US$14.7 billion) every year.\", \"mt\": \"250 年之後,Guinness 已經成為全球企業 每年營銷超過 10 億歐元 (14.7 億美元)\", \"ref\": \"250年後，健力士已經發展成為一個每年營業額超過100億歐元 (147億美元) 嘅全球企業。\", \"annotations\": []},',\n",
       " '{\"id\": 48, \"src\": \"Jonny Reid, co-driver for the A1GP New Zealand team, today made history by driving the fastest over the 48-year-old Auckland Harbour Bridge, New Zealand, legally.\", \"mt\": \"紐西蘭A1GP隊嘅同司機 Jonny Reid 今日成為咗史上最快嘅司機 通過合法嘅 48 年歷史嘅奧克蘭港橋\", \"ref\": \"今日，A1GP 紐西蘭隊嘅副駕駛員莊尼·李特 (Jonny Reid) 創下歷史，合法地以最快速度駛過擁有 48 年歷史嘅紐西蘭奧克蘭海港大橋。\", \"annotations\": []},',\n",
       " '{\"id\": 49, \"src\": \"Mr Reid managed to drive the New Zealand\\'s A1GP car, Black Beauty at speeds over 160km/h seven times over the bridge.\", \"mt\": \"里德先生成功地駕駛咗新西蘭 A1GP 黑色美女車 超過 160 公里/小時嘅速度\", \"ref\": \"李特先生成功駕駛新西蘭嘅 A1GP 汽車「黑美人」過橋七次，時速超過 160 公里。\", \"annotations\": []},',\n",
       " '{\"id\": 50, \"src\": \"The New Zealand police had trouble using their speed radar guns to see how fast Mr Reid was going because of how low Black Beauty is, and the only time the police managed to clock Mr Reid was when he slowed down to 160km/h.\", \"mt\": \"新西蘭警察用速度雷達槍 檢查雷德先生走得多快 因為黑人美女嘅速度低\", \"ref\": \"新西蘭警方因為「黑美人」嘅車身太矮，冇辦法用自身嘅測速雷達槍測到李特先生開得有幾快，只有其中一次佢減速到時速 160 公里，警方先可以幫佢測速。\", \"annotations\": []},']"
      ]
     },
     "execution_count": 28,
     "metadata": {},
     "output_type": "execute_result"
    }
   ],
   "source": [
    "newSet"
   ]
  }
 ],
 "metadata": {
  "kernelspec": {
   "display_name": "Python 3",
   "language": "python",
   "name": "python3"
  },
  "language_info": {
   "codemirror_mode": {
    "name": "ipython",
    "version": 3
   },
   "file_extension": ".py",
   "mimetype": "text/x-python",
   "name": "python",
   "nbconvert_exporter": "python",
   "pygments_lexer": "ipython3",
   "version": "3.10.11"
  }
 },
 "nbformat": 4,
 "nbformat_minor": 2
}
